{
  "cells": [
    {
      "cell_type": "markdown",
      "id": "94d5dd96",
      "metadata": {
        "id": "94d5dd96"
      },
      "source": [
        "# 🤖 Chatbot d'Orientation Scolaire avec NLTK et Transformers\n",
        "Ce notebook montre comment créer un chatbot qui répond aux questions d'orientation scolaire en utilisant **NLTK, TF-IDF et un modèle Transformers**."
      ]
    },
    {
      "cell_type": "markdown",
      "id": "glaQ0Pr94tPw",
      "metadata": {
        "id": "glaQ0Pr94tPw"
      },
      "source": [
        "Ce code importe et configure plusieurs bibliothèques essentielles pour le traitement du langage naturel (NLP). Voici une explication détaillée de chaque partie :"
      ]
    },
    {
      "cell_type": "markdown",
      "id": "5a5c717d",
      "metadata": {
        "id": "5a5c717d"
      },
      "source": [
        "## 📌 1. Importation des bibliothèques"
      ]
    },
    {
      "cell_type": "markdown",
      "id": "3R-0M3c_414E",
      "metadata": {
        "id": "3R-0M3c_414E"
      },
      "source": [
        "Nous aurons besoin des bibliothèques suivantes :\n",
        "\n",
        "*   pandas : utilisé pour manipuler des données sous forme de tableaux(DataFrame).\n",
        "*  nltk (Natural Language Toolkit) : une bibliothèque puissante pour le NLP.\n",
        "*   word_tokenize : permet de diviser un texte en mots individuels (tokenisation).\n",
        "*   stopwords : contient une liste de mots courants à exclure (comme \"le\",\"et\", \"de\", etc.).\n",
        "*   TfidfVectorizer (de sklearn.feature_extraction.text) : convertit un texte en représentation numérique en utilisant la pondération TF-IDF.\n",
        "*   cosine_similarity (de sklearn.metrics.pairwise) : mesure la similarité entre deux textes sur la base de leurs représentations numériques.\n",
        "*   pipeline (de transformers) : permet d'utiliser facilement des modèles de deep learning pour le NLP, comme ceux de Hugging Face.\n"
      ]
    },
    {
      "cell_type": "code",
      "execution_count": 37,
      "id": "c68a4e1d",
      "metadata": {
        "colab": {
          "base_uri": "https://localhost:8080/"
        },
        "id": "c68a4e1d",
        "outputId": "8ce3057d-8f36-4242-edb6-5974c23dd4ef"
      },
      "outputs": [
        {
          "name": "stderr",
          "output_type": "stream",
          "text": [
            "[nltk_data] Downloading package punkt to\n",
            "[nltk_data]     /Users/rayenhaddad/nltk_data...\n",
            "[nltk_data]   Package punkt is already up-to-date!\n",
            "[nltk_data] Downloading package stopwords to\n",
            "[nltk_data]     /Users/rayenhaddad/nltk_data...\n",
            "[nltk_data]   Package stopwords is already up-to-date!\n"
          ]
        },
        {
          "data": {
            "text/plain": [
              "True"
            ]
          },
          "execution_count": 37,
          "metadata": {},
          "output_type": "execute_result"
        }
      ],
      "source": [
        "\n",
        "import pandas as pd\n",
        "import nltk\n",
        "from nltk.tokenize import word_tokenize\n",
        "from nltk.corpus import stopwords\n",
        "from sklearn.feature_extraction.text import TfidfVectorizer\n",
        "from sklearn.metrics.pairwise import cosine_similarity\n",
        "from transformers import pipeline\n",
        "\n",
        "# Télécharger les ressources NLTK nécessaires\n",
        "nltk.download('punkt')\n",
        "nltk.download('stopwords')\n"
      ]
    },
    {
      "cell_type": "markdown",
      "id": "a6d38b4c",
      "metadata": {
        "id": "a6d38b4c"
      },
      "source": [
        "## 📌 2. Chargement du dataset\n",
        "Nous allons utiliser pandas pour charger un dataset contenant du texte. Ce dataset peut être sous forme de CSV, JSON ou TXT, selon le type de tâche que nous souhaitons effectuer.\n",
        "\n",
        "Pour une première visualisation, pensez à telecharger\n",
        "[dataset](https://https://drive.google.com/file/d/1DZPS5Vtq0Cs0qZCUXJXv8FE80GDaSN2-/view?usp=drive_link) proposer.\n",
        "\n",
        "Vous pourrez le modifier suite à votre enrichissement de données.\n",
        "\n",
        "Pensez à visualiser le dataset avant de lancer votre modèle dessus."
      ]
    },
    {
      "cell_type": "code",
      "execution_count": 38,
      "id": "4e41961a",
      "metadata": {
        "colab": {
          "base_uri": "https://localhost:8080/",
          "height": 365
        },
        "id": "4e41961a",
        "outputId": "a1b59350-6aeb-4895-cbce-900a10bfde9d"
      },
      "outputs": [
        {
          "data": {
            "text/html": [
              "<div>\n",
              "<style scoped>\n",
              "    .dataframe tbody tr th:only-of-type {\n",
              "        vertical-align: middle;\n",
              "    }\n",
              "\n",
              "    .dataframe tbody tr th {\n",
              "        vertical-align: top;\n",
              "    }\n",
              "\n",
              "    .dataframe thead th {\n",
              "        text-align: right;\n",
              "    }\n",
              "</style>\n",
              "<table border=\"1\" class=\"dataframe\">\n",
              "  <thead>\n",
              "    <tr style=\"text-align: right;\">\n",
              "      <th></th>\n",
              "      <th>Question</th>\n",
              "      <th>Réponse</th>\n",
              "    </tr>\n",
              "  </thead>\n",
              "  <tbody>\n",
              "    <tr>\n",
              "      <th>0</th>\n",
              "      <td>Quels sont les métiers du numérique ?</td>\n",
              "      <td>Les métiers du numérique incluent développeur ...</td>\n",
              "    </tr>\n",
              "    <tr>\n",
              "      <th>1</th>\n",
              "      <td>Quelles compétences sont requises pour devenir...</td>\n",
              "      <td>Maîtrise des langages HTML, CSS, JavaScript, a...</td>\n",
              "    </tr>\n",
              "    <tr>\n",
              "      <th>2</th>\n",
              "      <td>Quels métiers peut-on exercer avec un diplôme ...</td>\n",
              "      <td>Chargé de communication, chef de produit, resp...</td>\n",
              "    </tr>\n",
              "    <tr>\n",
              "      <th>3</th>\n",
              "      <td>Quels sont les métiers de la finance ?</td>\n",
              "      <td>Analyste financier, contrôleur de gestion, com...</td>\n",
              "    </tr>\n",
              "    <tr>\n",
              "      <th>4</th>\n",
              "      <td>Comment devenir architecte ?</td>\n",
              "      <td>Faire un Bac S ou STI2D, puis intégrer une éco...</td>\n",
              "    </tr>\n",
              "  </tbody>\n",
              "</table>\n",
              "</div>"
            ],
            "text/plain": [
              "                                            Question  \\\n",
              "0              Quels sont les métiers du numérique ?   \n",
              "1  Quelles compétences sont requises pour devenir...   \n",
              "2  Quels métiers peut-on exercer avec un diplôme ...   \n",
              "3             Quels sont les métiers de la finance ?   \n",
              "4                       Comment devenir architecte ?   \n",
              "\n",
              "                                             Réponse  \n",
              "0  Les métiers du numérique incluent développeur ...  \n",
              "1  Maîtrise des langages HTML, CSS, JavaScript, a...  \n",
              "2  Chargé de communication, chef de produit, resp...  \n",
              "3  Analyste financier, contrôleur de gestion, com...  \n",
              "4  Faire un Bac S ou STI2D, puis intégrer une éco...  "
            ]
          },
          "execution_count": 38,
          "metadata": {},
          "output_type": "execute_result"
        }
      ],
      "source": [
        "\n",
        "# Charger le dataset\n",
        "import requests\n",
        "\n",
        "\n",
        "df = pd.read_csv(\"../../data/dataset_orientation_scolaire.csv\")\n",
        "\n",
        "\n",
        "# df = pd.read_csv(\"/content/questions_orientation_scolaire.csv\") # à modifier avec votre dataset suite à l'enrichissement des données.\n",
        "\n",
        "# Afficher les premières lignes\n",
        "df.head()\n"
      ]
    },
    {
      "cell_type": "markdown",
      "id": "c6a0b246",
      "metadata": {
        "id": "c6a0b246"
      },
      "source": [
        "## 📌 3. Nettoyage et Pré-traitement des questions"
      ]
    },
    {
      "cell_type": "markdown",
      "id": "hs-hZfUS7ISv",
      "metadata": {
        "id": "hs-hZfUS7ISv"
      },
      "source": [
        "\n",
        "\n",
        "## 📝 Nettoyage de Texte avec NLTK\n",
        "\n",
        "On va utiliser la bibliothèque **NLTK** pour nettoyer du texte en français. Il effectue les opérations suivantes :\n",
        "- Télécharge et charge la liste des **stopwords** (mots vides) en français.\n",
        "- Tokenise (*découpe*) le texte en mots individuels.\n",
        "- Supprime les **stopwords** et les caractères non alphanumériques.\n",
        "- Implémente une **gestion des erreurs** pour éviter les problèmes liés aux ressources NLTK.\n",
        "\n",
        "Ce prétraitement est essentiel pour de nombreuses tâches de Large Language Model ou même NLP"
      ]
    },
    {
      "cell_type": "code",
      "execution_count": 39,
      "id": "ee563fd7",
      "metadata": {
        "colab": {
          "base_uri": "https://localhost:8080/"
        },
        "id": "ee563fd7",
        "outputId": "c8a6f55d-ebc2-438e-b8d5-3d8394b8e9d4"
      },
      "outputs": [
        {
          "name": "stdout",
          "output_type": "stream",
          "text": [
            "quels débouchés après bac\n"
          ]
        }
      ],
      "source": [
        "import nltk\n",
        "from nltk.tokenize import word_tokenize\n",
        "from nltk.corpus import stopwords\n",
        "\n",
        "# Télécharger les ressources NLTK nécessaires\n",
        "# TO DO\n",
        "# ....\n",
        "\n",
        "# Charger les stopwords français\n",
        "stop_words = set(stopwords.words('french'))  # TO DO: Charger les stopwords de la langue française\n",
        "\n",
        "# Fonction de nettoyage avec gestion d'erreur\n",
        "def nettoyer_texte(texte):\n",
        "    try:\n",
        "        tokens = word_tokenize(texte.lower())  # Tokenisation avec NLTK\n",
        "    except LookupError:\n",
        "        tokens = texte.lower().split()  # Mode de secours en cas d'erreur\n",
        "\n",
        "    tokens = [mot for mot in tokens if mot.isalnum() and mot not in stop_words]  # Suppression des stopwords et caractères spéciaux\n",
        "    return \" \".join(tokens)\n",
        "\n",
        "# Test du nettoyage\n",
        "texte_test = \"Quels sont les débouchés après le Bac ?\"\n",
        "print(nettoyer_texte(texte_test))"
      ]
    },
    {
      "cell_type": "markdown",
      "id": "9xKGKRE37kg8",
      "metadata": {
        "id": "9xKGKRE37kg8"
      },
      "source": [
        "Que constatez vous ?"
      ]
    },
    {
      "cell_type": "code",
      "execution_count": null,
      "id": "oHAp75bH-XSp",
      "metadata": {
        "id": "oHAp75bH-XSp"
      },
      "outputs": [],
      "source": [
        "# On remarque que les stopwords ne sont plus présents (tel que sont, le et ?). On comprend encore le sens du texte mais on l'a simplifié"
      ]
    },
    {
      "cell_type": "markdown",
      "id": "REHlQhQuZRiP",
      "metadata": {
        "id": "REHlQhQuZRiP"
      },
      "source": [
        "Appliquons le à l'ensemble de notre dataset."
      ]
    },
    {
      "cell_type": "code",
      "execution_count": 40,
      "id": "O53wnIBtHAhl",
      "metadata": {
        "id": "O53wnIBtHAhl"
      },
      "outputs": [],
      "source": [
        "df[\"Question_clean\"] = df[\"Question\"].apply(nettoyer_texte)"
      ]
    },
    {
      "cell_type": "markdown",
      "id": "AdtJVdvM8Aus",
      "metadata": {
        "id": "AdtJVdvM8Aus"
      },
      "source": [
        "## 4. 🎯 Objectif : Trouver une Réponse à une Question avec TF-IDF\n",
        "\n",
        "Dans cette activité, nous allons utiliser une **approche classique de NLP (Traitement Automatique du Langage Naturel)** pour associer une question posée par un utilisateur à la réponse la plus pertinente dans une base de données.\n",
        "\n",
        "### 🛠 Ce que nous allons faire :\n",
        "1. **Vectoriser les questions** avec la méthode **TF-IDF (Term Frequency - Inverse Document Frequency)** pour les transformer en représentation numérique.\n",
        "2. **Comparer une nouvelle question** avec celles existantes en calculant la **similarité cosinus**.\n",
        "3. **Identifier la réponse la plus pertinente** en sélectionnant la question la plus proche de celle posée.\n",
        "\n",
        "💡 **Pourquoi cette méthode ?**  \n",
        "Lorsqu'un modèle n'est pas encore entraîné pour comprendre directement les questions et fournir des réponses, **TF-IDF** permet de trouver une correspondance basée sur la proximité des mots et leur importance dans le texte.\n",
        "\n",
        "✅ **À vous de jouer !** Testez le code en posant différentes questions et observez la réponse retournée. Vous pouvez également modifier la base de données pour voir comment le modèle s’adapte.\n"
      ]
    },
    {
      "cell_type": "code",
      "execution_count": 41,
      "id": "9bfb5e76",
      "metadata": {
        "id": "9bfb5e76"
      },
      "outputs": [],
      "source": [
        "# Vectorisation TF-IDF\n",
        "vectorizer = TfidfVectorizer()\n",
        "tfidf_matrix = vectorizer.fit_transform(df[\"Question_clean\"])\n",
        "\n",
        "def trouver_reponse(question):\n",
        "    question_clean = nettoyer_texte(question)\n",
        "    question_tfidf = vectorizer.transform([question_clean])\n",
        "    similarites = cosine_similarity(question_tfidf, tfidf_matrix)\n",
        "    index_meilleure = similarites.argmax()\n",
        "    return df.iloc[index_meilleure][\"Réponse\"]\n"
      ]
    },
    {
      "cell_type": "markdown",
      "id": "T5FlOvwu8auH",
      "metadata": {
        "id": "T5FlOvwu8auH"
      },
      "source": [
        "## 5. 📝 Test du Chatbot avec une Question Utilisateur\n",
        "\n",
        "Ce code permet de tester notre **chatbot basé sur TF-IDF** en lui posant une question.  \n",
        "\n",
        "### 🔹 Fonctionnement :\n",
        "1. **Une question utilisateur est définie**, par exemple :  \n",
        "   *\"Comment intégrer une école de médecine ?\"*\n",
        "2. **La fonction `trouver_reponse()` est appelée** pour analyser la question et rechercher la réponse la plus pertinente dans notre base de données.\n",
        "3. **Le chatbot affiche la réponse trouvée**, basée sur la similarité avec les questions existantes.\n",
        "\n",
        "💡 **Essayez avec différentes questions et observez les résultats !**  \n",
        "Vous pouvez également modifier la base de données pour voir comment cela influence les réponses du chatbot.\n"
      ]
    },
    {
      "cell_type": "code",
      "execution_count": 42,
      "id": "97XNTz38VKrH",
      "metadata": {
        "id": "97XNTz38VKrH"
      },
      "outputs": [
        {
          "name": "stdout",
          "output_type": "stream",
          "text": [
            "Edu Pilot: Faire un Bac S ou STI2D, puis intégrer une école d'architecture reconnue par l'État. Compétences : créativité, maîtrise des logiciels de CAO, connaissance des matériaux de construction. Exemples d'établissements : ENSAP (Bordeaux, Paris, Lille), École Spéciale d'Architecture (Paris).\n"
          ]
        }
      ],
      "source": [
        "# Test du chatbot\n",
        "question_utilisateur = \"Comment devenir architect?\"\n",
        "print(\"Edu Pilot:\", trouver_reponse(question_utilisateur))"
      ]
    },
    {
      "cell_type": "code",
      "execution_count": 43,
      "id": "iaf1HohXIhzZ",
      "metadata": {
        "colab": {
          "base_uri": "https://localhost:8080/"
        },
        "id": "iaf1HohXIhzZ",
        "outputId": "c3fa0674-6fe8-47fb-88a8-38ec1405acd4"
      },
      "outputs": [
        {
          "name": "stdout",
          "output_type": "stream",
          "text": [
            "Edu Pilot: L'orthophoniste évalue et rééduque les troubles de la parole, du langage, de la voix et de la déglutition. Il intervient auprès des enfants (retard de langage, dyslexie), des adultes (troubles neurologiques) et des personnes âgées (troubles de la déglutition). Compétences : patience, pédagogie, connaissances en linguistique, psychologie et anatomie. Exemples d'établissements : Universités avec un département d'orthophonie (Paris, Lille, Lyon, Marseille). L'admission se fait par concours très sélectif après le bac ou via une année de préparation.\n"
          ]
        }
      ],
      "source": [
        "# Test du chatbot\n",
        "question_utilisateur = \"Qu'est ce que le métier d'orthophoniste?\"\n",
        "print(\"Edu Pilot:\", trouver_reponse(question_utilisateur))"
      ]
    },
    {
      "cell_type": "markdown",
      "id": "nULDjVhY8tc7",
      "metadata": {
        "id": "nULDjVhY8tc7"
      },
      "source": [
        "## 6. 💾 Sauvegarde du Modèle Chatbot\n",
        "\n",
        "Ce code permet de **sauvegarder notre modèle chatbot** afin de pouvoir le réutiliser sans avoir à recalculer la vectorisation TF-IDF à chaque exécution.\n",
        "\n",
        "### 🔹 Fonctionnement :\n",
        "1. **Utilisation de `pickle`**, une bibliothèque permettant de sérialiser (sauvegarder) des objets Python.\n",
        "2. **Ouverture d'un fichier `chatbot_model.pkl` en mode écriture binaire (`wb`)**.\n",
        "3. **Sauvegarde des éléments clés du modèle** :\n",
        "   - `vectorizer` : le transformateur TF-IDF entraîné.\n",
        "   - `tfidf_matrix` : la matrice des questions vectorisées.\n",
        "   - `df` : le dataset utilisé.\n",
        "\n",
        "✅ Une fois ce fichier créé, nous pourrons **charger directement ces objets** dans un autre script sans avoir à refaire la vectorisation des questions.\n",
        "\n",
        "💡 **Essayez de modifier la base de données et de sauvegarder un nouveau modèle, puis rechargez-le pour voir les effets des changements !**\n"
      ]
    },
    {
      "cell_type": "code",
      "execution_count": 69,
      "id": "iKkaQXyOa4db",
      "metadata": {
        "colab": {
          "base_uri": "https://localhost:8080/"
        },
        "id": "iKkaQXyOa4db",
        "outputId": "dfc230fc-4e28-4b72-8d2c-df4f3ae87935"
      },
      "outputs": [
        {
          "name": "stdout",
          "output_type": "stream",
          "text": [
            "✅ Modèle chatbot enregistré dans 'chatbot_model.pkl'\n"
          ]
        }
      ],
      "source": [
        "import pickle\n",
        "with open(\"chatbot_model.pkl\", \"wb\") as f:\n",
        "    pickle.dump((vectorizer, tfidf_matrix, df), f)\n",
        "\n",
        "print(\"✅ Modèle chatbot enregistré dans 'chatbot_model.pkl'\")"
      ]
    },
    {
      "cell_type": "markdown",
      "id": "PXZpg7J5XbxS",
      "metadata": {
        "id": "PXZpg7J5XbxS"
      },
      "source": [
        "### 7. Initialtion au Fine_tuning :\n",
        "\n",
        "Afin d'optimiser le modèle, utilisez des modèles pré-entrainé du type Mistral de hugging face, spécialiser à la langue française, ou encore GPT.\n",
        "\n",
        "Lorsque nous lancerons nos données enrichies sur ce type de modèle LLM, nous appelons cela du Fine_tuning."
      ]
    },
    {
      "cell_type": "code",
      "execution_count": 1,
      "id": "bQhLat5MXiaB",
      "metadata": {
        "id": "bQhLat5MXiaB"
      },
      "outputs": [
        {
          "name": "stdout",
          "output_type": "stream",
          "text": [
            "Collecting torch\n",
            "  Using cached torch-2.2.2-cp310-none-macosx_10_9_x86_64.whl.metadata (25 kB)\n",
            "Collecting filelock (from torch)\n",
            "  Using cached filelock-3.17.0-py3-none-any.whl.metadata (2.9 kB)\n",
            "Requirement already satisfied: typing-extensions>=4.8.0 in /Users/rayenhaddad/Library/Python/3.10/lib/python/site-packages (from torch) (4.12.2)\n",
            "Collecting sympy (from torch)\n",
            "  Using cached sympy-1.13.3-py3-none-any.whl.metadata (12 kB)\n",
            "Collecting networkx (from torch)\n",
            "  Using cached networkx-3.4.2-py3-none-any.whl.metadata (6.3 kB)\n",
            "Collecting jinja2 (from torch)\n",
            "  Using cached jinja2-3.1.6-py3-none-any.whl.metadata (2.9 kB)\n",
            "Collecting fsspec (from torch)\n",
            "  Using cached fsspec-2025.3.0-py3-none-any.whl.metadata (11 kB)\n",
            "Collecting MarkupSafe>=2.0 (from jinja2->torch)\n",
            "  Using cached MarkupSafe-3.0.2-cp310-cp310-macosx_10_9_universal2.whl.metadata (4.0 kB)\n",
            "Collecting mpmath<1.4,>=1.1.0 (from sympy->torch)\n",
            "  Using cached mpmath-1.3.0-py3-none-any.whl.metadata (8.6 kB)\n",
            "Using cached torch-2.2.2-cp310-none-macosx_10_9_x86_64.whl (150.8 MB)\n",
            "Using cached filelock-3.17.0-py3-none-any.whl (16 kB)\n",
            "Using cached fsspec-2025.3.0-py3-none-any.whl (193 kB)\n",
            "Using cached jinja2-3.1.6-py3-none-any.whl (134 kB)\n",
            "Using cached networkx-3.4.2-py3-none-any.whl (1.7 MB)\n",
            "Using cached sympy-1.13.3-py3-none-any.whl (6.2 MB)\n",
            "Using cached MarkupSafe-3.0.2-cp310-cp310-macosx_10_9_universal2.whl (14 kB)\n",
            "Using cached mpmath-1.3.0-py3-none-any.whl (536 kB)\n",
            "Installing collected packages: mpmath, sympy, networkx, MarkupSafe, fsspec, filelock, jinja2, torch\n",
            "Successfully installed MarkupSafe-3.0.2 filelock-3.17.0 fsspec-2025.3.0 jinja2-3.1.6 mpmath-1.3.0 networkx-3.4.2 sympy-1.13.3 torch-2.2.2\n",
            "\n",
            "\u001b[1m[\u001b[0m\u001b[34;49mnotice\u001b[0m\u001b[1;39;49m]\u001b[0m\u001b[39;49m A new release of pip is available: \u001b[0m\u001b[31;49m24.3.1\u001b[0m\u001b[39;49m -> \u001b[0m\u001b[32;49m25.0.1\u001b[0m\n",
            "\u001b[1m[\u001b[0m\u001b[34;49mnotice\u001b[0m\u001b[1;39;49m]\u001b[0m\u001b[39;49m To update, run: \u001b[0m\u001b[32;49mpython3.10 -m pip install --upgrade pip\u001b[0m\n",
            "Note: you may need to restart the kernel to use updated packages.\n"
          ]
        },
        {
          "ename": "ModuleNotFoundError",
          "evalue": "No module named 'transformers'",
          "output_type": "error",
          "traceback": [
            "\u001b[0;31m---------------------------------------------------------------------------\u001b[0m",
            "\u001b[0;31mModuleNotFoundError\u001b[0m                       Traceback (most recent call last)",
            "Cell \u001b[0;32mIn[1], line 4\u001b[0m\n\u001b[1;32m      1\u001b[0m \u001b[38;5;66;03m# Install PyTorch\u001b[39;00m\n\u001b[1;32m      2\u001b[0m get_ipython()\u001b[38;5;241m.\u001b[39mrun_line_magic(\u001b[38;5;124m'\u001b[39m\u001b[38;5;124mpip\u001b[39m\u001b[38;5;124m'\u001b[39m, \u001b[38;5;124m'\u001b[39m\u001b[38;5;124minstall torch\u001b[39m\u001b[38;5;124m'\u001b[39m)\n\u001b[0;32m----> 4\u001b[0m \u001b[38;5;28;01mfrom\u001b[39;00m\u001b[38;5;250m \u001b[39m\u001b[38;5;21;01mtransformers\u001b[39;00m\u001b[38;5;250m \u001b[39m\u001b[38;5;28;01mimport\u001b[39;00m AutoModelForCausalLM, AutoTokenizer\n\u001b[1;32m      5\u001b[0m \u001b[38;5;28;01mimport\u001b[39;00m\u001b[38;5;250m \u001b[39m\u001b[38;5;21;01mtorch\u001b[39;00m\n\u001b[1;32m      7\u001b[0m model_name \u001b[38;5;241m=\u001b[39m \u001b[38;5;124m\"\u001b[39m\u001b[38;5;124mmicrosoft/DialoGPT-small\u001b[39m\u001b[38;5;124m\"\u001b[39m  \u001b[38;5;66;03m# Mets le nom du modèle que tu veux utiliser nous utilison DialoGPT-small, vous pouvez tester Mistral ou un autre LLM\u001b[39;00m\n",
            "\u001b[0;31mModuleNotFoundError\u001b[0m: No module named 'transformers'"
          ]
        }
      ],
      "source": [
        "# Install PyTorch\n",
        "%pip install torch\n",
        "\n",
        "from transformers import AutoModelForCausalLM, AutoTokenizer\n",
        "import torch\n",
        "\n",
        "model_name = \"microsoft/DialoGPT-small\"  # Mets le nom du modèle que tu veux utiliser nous utilison DialoGPT-small, vous pouvez tester Mistral ou un autre LLM\n",
        "\n",
        "# Téléchargement et sauvegarde locale\n",
        "model = AutoModelForCausalLM.from_pretrained(model_name)\n",
        "tokenizer = AutoTokenizer.from_pretrained(model_name)\n",
        "\n",
        "# Sauvegarde en local\n",
        "model.save_pretrained(\"chatbot_model\")\n",
        "tokenizer.save_pretrained(\"chatbot_model\")\n",
        "\n",
        "print(\"✅ Modèle et tokenizer sauvegardés en local dans chatbot_model/\")"
      ]
    },
    {
      "cell_type": "markdown",
      "id": "jE7DytCusTFR",
      "metadata": {
        "id": "jE7DytCusTFR"
      },
      "source": [
        "Maintenant que vous avez vu comment nous utilisons des modèles LLM sur des bases de données.\n",
        "\n",
        "A vous d'enrichir votre base de données avant de lancer le Fine_tuning sur votre dataset lors du prochain sprint.\n",
        "\n",
        "Votre objectif :\n",
        "*   Mettre en place une stratégie d'enrichissement de la base de données\n",
        "*   Exécuter la statégie pour avoir un dataset enrichi au prochain samedi.\n",
        "\n",
        "\n",
        "\n"
      ]
    }
  ],
  "metadata": {
    "colab": {
      "provenance": []
    },
    "kernelspec": {
      "display_name": "Python 3",
      "language": "python",
      "name": "python3"
    },
    "language_info": {
      "codemirror_mode": {
        "name": "ipython",
        "version": 3
      },
      "file_extension": ".py",
      "mimetype": "text/x-python",
      "name": "python",
      "nbconvert_exporter": "python",
      "pygments_lexer": "ipython3",
      "version": "3.10.16"
    }
  },
  "nbformat": 4,
  "nbformat_minor": 5
}
